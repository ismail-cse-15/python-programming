{
  "nbformat": 4,
  "nbformat_minor": 0,
  "metadata": {
    "colab": {
      "provenance": [],
      "authorship_tag": "ABX9TyPwEiOFKxC15V7UF98+Rqxo",
      "include_colab_link": true
    },
    "kernelspec": {
      "name": "python3",
      "display_name": "Python 3"
    },
    "language_info": {
      "name": "python"
    }
  },
  "cells": [
    {
      "cell_type": "markdown",
      "metadata": {
        "id": "view-in-github",
        "colab_type": "text"
      },
      "source": [
        "<a href=\"https://colab.research.google.com/github/ismail-cse-15/python-programming/blob/main/flow_control_in__python.ipynb\" target=\"_parent\"><img src=\"https://colab.research.google.com/assets/colab-badge.svg\" alt=\"Open In Colab\"/></a>"
      ]
    },
    {
      "cell_type": "markdown",
      "source": [
        "Flow control includes:\n",
        "\n",
        "\n",
        "*   if-else statement\n",
        "*   For loop\n",
        "*   While loop\n",
        "*   Break and continue\n",
        "*   Python passes\n",
        "\n",
        "\n",
        "---\n",
        "\n",
        "\n",
        "\n",
        "\n",
        "\n",
        "\n",
        "\n",
        "\n",
        "\n"
      ],
      "metadata": {
        "id": "UsaPD6Ef8G-S"
      }
    },
    {
      "cell_type": "markdown",
      "source": [
        "# **If-else statement**"
      ],
      "metadata": {
        "id": "Kn3HdMrrK5NT"
      }
    },
    {
      "cell_type": "code",
      "execution_count": 35,
      "metadata": {
        "colab": {
          "base_uri": "https://localhost:8080/"
        },
        "id": "ur_VEz818Be0",
        "outputId": "7b034673-a28e-4b9a-8a7a-408fdcb08bcc"
      },
      "outputs": [
        {
          "output_type": "stream",
          "name": "stdout",
          "text": [
            "9\n",
            "It is a positive number\n",
            "Odd number\n",
            "Positive number\n",
            "89.6\n",
            "Grade: A\n"
          ]
        }
      ],
      "source": [
        "x=int(input())\n",
        "\n",
        "#checking if x is positive or not\n",
        "if(x>0):\n",
        "  print(\"It is a positive number\")\n",
        "y=abs(x)\n",
        "\n",
        "#checking if x is even or odd number \n",
        "if(y%2==0):\n",
        "  print(\"Even number\")\n",
        "else:\n",
        "  print(\"Odd number\")  \n",
        "\n",
        "if(x<0):\n",
        "  print(\"negative number\")\n",
        "elif(x==0):\n",
        "  print(\"it is zero\")  \n",
        "else:\n",
        "  print(\"Positive number\")  \n",
        "\n",
        "\n",
        "#grading system by using ie -- else\n",
        "\n",
        "marks=float(input())\n",
        "if(marks<50):\n",
        "  print(\"Grade: F\")\n",
        "elif(marks>=50 and marks<60):\n",
        "  print(\"Grade: C\")  \n",
        "elif(marks>=60 and marks<70):\n",
        "  print(\"Grade: B\") \n",
        "elif(marks>=70 and marks<80):\n",
        "  print(\"Grade: B+\") \n",
        "elif(marks>=80 and marks<90):\n",
        "  print(\"Grade: A\")     \n",
        "else:\n",
        "  print(\"Grade: A+\")   "
      ]
    },
    {
      "cell_type": "markdown",
      "source": [
        "# **For loop**"
      ],
      "metadata": {
        "id": "eiBftf__K0UU"
      }
    },
    {
      "cell_type": "code",
      "source": [
        "for x in \"Ismail\":\n",
        "  print(x)\n",
        "\n",
        "for i in range(11):\n",
        "  if(i%2==0):\n",
        "    print(str(i)+ \" is even number\")\n",
        "  else:\n",
        "    print(str(i)+ \" is odd number\")   \n",
        "\n",
        "# for loop contain an exceptional else statement\n",
        "print(\"----------------------------------\")\n",
        "for i in range(11):\n",
        "  if(i%2==0):\n",
        "    print(str(i)+ \" is even number\")\n",
        "  else:\n",
        "    print(str(i)+ \" is odd number\")   \n",
        "else:\n",
        "  print(\"Inside else statement\")     "
      ],
      "metadata": {
        "colab": {
          "base_uri": "https://localhost:8080/"
        },
        "id": "3qKSE0-jK34t",
        "outputId": "0ba74478-0a34-413a-a4e5-598b19469b25"
      },
      "execution_count": 36,
      "outputs": [
        {
          "output_type": "stream",
          "name": "stdout",
          "text": [
            "I\n",
            "s\n",
            "m\n",
            "a\n",
            "i\n",
            "l\n",
            "0 is even number\n",
            "1 is odd number\n",
            "2 is even number\n",
            "3 is odd number\n",
            "4 is even number\n",
            "5 is odd number\n",
            "6 is even number\n",
            "7 is odd number\n",
            "8 is even number\n",
            "9 is odd number\n",
            "10 is even number\n",
            "----------------------------------\n",
            "0 is even number\n",
            "1 is odd number\n",
            "2 is even number\n",
            "3 is odd number\n",
            "4 is even number\n",
            "5 is odd number\n",
            "6 is even number\n",
            "7 is odd number\n",
            "8 is even number\n",
            "9 is odd number\n",
            "10 is even number\n",
            "Inside else statement\n"
          ]
        }
      ]
    },
    {
      "cell_type": "markdown",
      "source": [
        "# **Break and continue statement**"
      ],
      "metadata": {
        "id": "pX2mF1fsMbGn"
      }
    },
    {
      "cell_type": "code",
      "source": [
        "# break: used to terminate the loop\n",
        "print(\"Break statement used for value 5 in range(1-10)\")\n",
        "for x in range(11):\n",
        "  if(x==5):\n",
        "    break\n",
        "  print(x)  \n",
        "\n",
        " #continue: used to escape a specific iteration\n",
        "print(\"Continue statement used for value 5 in range(1-10)\")\n",
        "for x in range(11):\n",
        "  if(x==5):\n",
        "    continue\n",
        "  print(x)  "
      ],
      "metadata": {
        "colab": {
          "base_uri": "https://localhost:8080/"
        },
        "id": "c2cnNebHMequ",
        "outputId": "9cf86a8a-e787-4d91-eaac-aec89cd6f4a1"
      },
      "execution_count": 37,
      "outputs": [
        {
          "output_type": "stream",
          "name": "stdout",
          "text": [
            "Break statement used for value 5 in range(1-10)\n",
            "0\n",
            "1\n",
            "2\n",
            "3\n",
            "4\n",
            "Continue statement used for value 5 in range(1-10)\n",
            "0\n",
            "1\n",
            "2\n",
            "3\n",
            "4\n",
            "6\n",
            "7\n",
            "8\n",
            "9\n",
            "10\n"
          ]
        }
      ]
    },
    {
      "cell_type": "markdown",
      "source": [
        "# **While loop**"
      ],
      "metadata": {
        "id": "GVQTV97jNfzY"
      }
    },
    {
      "cell_type": "code",
      "source": [
        "sum=0\n",
        "i=0\n",
        "while(i<11):\n",
        "  sum+=i\n",
        "  i=i+1\n",
        "print(\"Summation of number from 1-10 is \"+str(sum))  \n",
        "while(i<21):\n",
        "  sum+=i\n",
        "  i=i+1\n",
        "  print(\"Inside whilw loop\")  \n",
        "else:\n",
        "  print(\"Outside whilw loop\")  \n",
        "#while loop also has an optional else statement \n"
      ],
      "metadata": {
        "colab": {
          "base_uri": "https://localhost:8080/"
        },
        "id": "49r8AnvONiE4",
        "outputId": "77bc7273-561b-4626-cbda-7522f9fc9f80"
      },
      "execution_count": 38,
      "outputs": [
        {
          "output_type": "stream",
          "name": "stdout",
          "text": [
            "Summation of number from 1-10 is 55\n",
            "Inside whilw loop\n",
            "Inside whilw loop\n",
            "Inside whilw loop\n",
            "Inside whilw loop\n",
            "Inside whilw loop\n",
            "Inside whilw loop\n",
            "Inside whilw loop\n",
            "Inside whilw loop\n",
            "Inside whilw loop\n",
            "Inside whilw loop\n",
            "Outside whilw loop\n"
          ]
        }
      ]
    },
    {
      "cell_type": "markdown",
      "source": [
        "# **pass statement**\n",
        "It is a null statement \n",
        "\n",
        "Used inside loop / function/ class\n",
        "\n",
        "Used as a placeholder for the future code"
      ],
      "metadata": {
        "id": "fpdenJCGOefK"
      }
    },
    {
      "cell_type": "code",
      "source": [
        "if (x<0):\n",
        "  pass\n",
        "\n",
        "print(\"hello\")\n",
        "  \n"
      ],
      "metadata": {
        "colab": {
          "base_uri": "https://localhost:8080/"
        },
        "id": "wxvs3tcnXGZm",
        "outputId": "4e844f7f-e23a-4d59-aa46-34dfd116ee66"
      },
      "execution_count": 39,
      "outputs": [
        {
          "output_type": "stream",
          "name": "stdout",
          "text": [
            "hello\n"
          ]
        }
      ]
    },
    {
      "cell_type": "code",
      "source": [
        "# is generates an error\n",
        "if (x<0):\n",
        "  \n",
        "\n",
        "print(\"hello\")\n"
      ],
      "metadata": {
        "colab": {
          "base_uri": "https://localhost:8080/",
          "height": 130
        },
        "id": "xlyq87WVXVPx",
        "outputId": "ad0fedc1-6192-4013-a671-aab3e19f16f5"
      },
      "execution_count": 40,
      "outputs": [
        {
          "output_type": "error",
          "ename": "IndentationError",
          "evalue": "ignored",
          "traceback": [
            "\u001b[0;36m  File \u001b[0;32m\"<ipython-input-40-8e013c25c1e6>\"\u001b[0;36m, line \u001b[0;32m4\u001b[0m\n\u001b[0;31m    print(\"hello\")\u001b[0m\n\u001b[0m    ^\u001b[0m\n\u001b[0;31mIndentationError\u001b[0m\u001b[0;31m:\u001b[0m expected an indented block\n"
          ]
        }
      ]
    }
  ]
}