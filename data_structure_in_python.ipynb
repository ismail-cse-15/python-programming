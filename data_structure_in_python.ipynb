{
  "nbformat": 4,
  "nbformat_minor": 0,
  "metadata": {
    "colab": {
      "provenance": [],
      "authorship_tag": "ABX9TyPeXs14Jsx89wfpxR8auEHS",
      "include_colab_link": true
    },
    "kernelspec": {
      "name": "python3",
      "display_name": "Python 3"
    },
    "language_info": {
      "name": "python"
    }
  },
  "cells": [
    {
      "cell_type": "markdown",
      "metadata": {
        "id": "view-in-github",
        "colab_type": "text"
      },
      "source": [
        "<a href=\"https://colab.research.google.com/github/ismail-cse-15/python-programming/blob/main/data_structure_in_python.ipynb\" target=\"_parent\"><img src=\"https://colab.research.google.com/assets/colab-badge.svg\" alt=\"Open In Colab\"/></a>"
      ]
    },
    {
      "cell_type": "markdown",
      "source": [
        "# **Python built-in data structures includes:**\n",
        "*   List\n",
        "*   Tuple\n",
        "*   Set\n",
        "*   Dictionaries\n",
        "\n",
        "# **Python userdefined data structures includes:**\n",
        "*   Tree\n",
        "*   Hashmap\n",
        "*   Stack\n",
        "*   Queue\n",
        "*   Linked list\n",
        "*   Graph\n",
        "\n",
        "# **Python primptive data structure:**\n",
        "*   string\n",
        "*   Float\n",
        "*   Integer\n",
        "*   Boolean\n",
        "\n",
        "\n",
        "\n",
        "\n",
        "\n"
      ],
      "metadata": {
        "id": "yCvanPLxgZuw"
      }
    },
    {
      "cell_type": "markdown",
      "source": [
        "# **Characteristics of list**\n",
        "\n",
        "# **Methods of list(list operation)**\n",
        "*   insert()\n",
        "*   append()\n",
        "*   extends()\n",
        "\n",
        "*  sort() \n",
        "*  reverse() \n",
        "\n",
        "*  remove() \n",
        "*  pop() \n",
        "* del()  \n",
        "\n",
        "* copy() \n",
        "* count()\n",
        "\n",
        "* index()\n",
        "\n",
        "\n",
        "# **List creating process**\n",
        "\n",
        "\n",
        "*   initialization\n",
        "*   list()\n",
        "*   copy()\n",
        "\n",
        "\n",
        "\n"
      ],
      "metadata": {
        "id": "RpGPe0NC8Xp6"
      }
    },
    {
      "cell_type": "code",
      "source": [
        "# creating an empty list \n",
        "my_list=[]\n",
        "print(my_list)\n",
        "print(len(my_list))\n",
        "\n",
        "# creating a fixed sized list\n",
        "my_list_1=['apple', 'banana', 'guava', 'orange', 'coconut', 'graps', 'pine-apple']\n",
        "\n",
        "#determining the size of the list\n",
        "print(len(my_list_1))\n",
        "\n",
        "\n",
        "#copying a list \n",
        "print(\"Copying a list\")\n",
        "my_list_1_copy=my_list_1.copy()\n",
        "print(my_list_1_copy)\n",
        "\n",
        "\n",
        "#iterating over list through for loop\n",
        "for x in range(len(my_list_1)):\n",
        "  print(my_list_1[x])\n",
        "\n",
        "#sort list in ascending order\n",
        "my_list_1.sort()\n",
        "print(my_list_1)\n",
        "\n",
        "#sort list in descending order\n",
        "my_list_1.sort(reverse=True)\n",
        "print(my_list_1)\n",
        "\n",
        "#reverse the list\n",
        "my_list_1.reverse()\n",
        "print(my_list_1)\n",
        "\n",
        "#append method: add an element last of the lst\n",
        "my_list_1.append('jackfruit')\n",
        "print(my_list_1)\n",
        "\n",
        "my_list.append('mango')\n",
        "my_list.append('carrot')\n",
        "print(my_list)\n",
        "\n",
        "# inserting a list item in a specific location\n",
        "print(\"interting an item in a specific loaction\")\n",
        "my_list_1.insert(5,'tomato')\n",
        "print(my_list_1)\n",
        "\n",
        "#extends a list(my_list_1) with another list(my_list)\n",
        "my_list_1.extend(my_list)\n",
        "print(my_list_1)\n",
        "\n",
        "#adding duplicate\n",
        "print(\"Adding duplicate\")\n",
        "my_list_1.append('banana')\n",
        "print(my_list_1)\n",
        "\n",
        "print(\"Counting list Item\")\n",
        "#count() : count the number of item\n",
        "print(my_list_1.count('banana'))\n",
        "\n",
        "#remove(): remove an specific item\n",
        "my_list_1.remove('banana')\n",
        "print(my_list_1)\n",
        "\n",
        "#pop(): removes and finding the last elements of a list(by default last item, we can specify the location)\n",
        "print(my_list_1.pop())\n",
        "print(my_list_1)\n",
        "\n",
        "# pop : removing an specific indexed item\n",
        "print(my_list_1.pop(5))\n",
        "print(my_list_1)\n",
        "\n",
        "#clearing the list\n",
        "my_list_1.clear()\n",
        "print(my_list_1)\n"
      ],
      "metadata": {
        "id": "sdE3qgIwiBQA",
        "colab": {
          "base_uri": "https://localhost:8080/"
        },
        "outputId": "0b64caeb-4e62-40ab-ea7d-52d460818ed0"
      },
      "execution_count": null,
      "outputs": [
        {
          "output_type": "stream",
          "name": "stdout",
          "text": [
            "[]\n",
            "0\n",
            "7\n",
            "Copying a list\n",
            "['apple', 'banana', 'guava', 'orange', 'coconut', 'graps', 'pine-apple']\n",
            "apple\n",
            "banana\n",
            "guava\n",
            "orange\n",
            "coconut\n",
            "graps\n",
            "pine-apple\n",
            "['apple', 'banana', 'coconut', 'graps', 'guava', 'orange', 'pine-apple']\n",
            "['pine-apple', 'orange', 'guava', 'graps', 'coconut', 'banana', 'apple']\n",
            "['apple', 'banana', 'coconut', 'graps', 'guava', 'orange', 'pine-apple']\n",
            "['apple', 'banana', 'coconut', 'graps', 'guava', 'orange', 'pine-apple', 'jackfruit']\n",
            "['mango', 'carrot']\n",
            "interting an item in a specific loaction\n",
            "['apple', 'banana', 'coconut', 'graps', 'guava', 'tomato', 'orange', 'pine-apple', 'jackfruit']\n",
            "['apple', 'banana', 'coconut', 'graps', 'guava', 'tomato', 'orange', 'pine-apple', 'jackfruit', 'mango', 'carrot']\n",
            "Adding duplicate\n",
            "['apple', 'banana', 'coconut', 'graps', 'guava', 'tomato', 'orange', 'pine-apple', 'jackfruit', 'mango', 'carrot', 'banana']\n",
            "Counting list Item\n",
            "2\n",
            "['apple', 'coconut', 'graps', 'guava', 'tomato', 'orange', 'pine-apple', 'jackfruit', 'mango', 'carrot', 'banana']\n",
            "banana\n",
            "['apple', 'coconut', 'graps', 'guava', 'tomato', 'orange', 'pine-apple', 'jackfruit', 'mango', 'carrot']\n",
            "orange\n",
            "['apple', 'coconut', 'graps', 'guava', 'tomato', 'pine-apple', 'jackfruit', 'mango', 'carrot']\n",
            "[]\n"
          ]
        }
      ]
    },
    {
      "cell_type": "markdown",
      "source": [
        "# **List comprehension**\n",
        "A shorter syntax to create a new list ***based on the values of an existing list***.\n",
        "\n",
        "syntax\n",
        "`[expression for item in iterable if condition]`\n",
        "\n",
        "\n",
        "---\n",
        "\n",
        "\n",
        "Where,\n",
        "\n",
        "1.   expression: an item, outcome of some oporation on item, an if ense statement\n",
        "2.  iterable: it can be list, touple, set\n",
        "3.   condition: it can be a if statement\n"
      ],
      "metadata": {
        "id": "0YUzGgcLMUSI"
      }
    },
    {
      "cell_type": "code",
      "source": [
        "number=[x for x in range(10)]\n",
        "print(number)\n",
        "even_number=[x for x in range(10) if x%2==0]\n",
        "print(even_number)\n",
        "odd_number=[x if x%2==1 else '.' for x in range(10)]\n",
        "print(odd_number)\n"
      ],
      "metadata": {
        "colab": {
          "base_uri": "https://localhost:8080/"
        },
        "id": "DW6PVJpctv-C",
        "outputId": "7a792c1d-7ff1-4ee1-9092-f5ed7a95a778"
      },
      "execution_count": 5,
      "outputs": [
        {
          "output_type": "stream",
          "name": "stdout",
          "text": [
            "[0, 1, 2, 3, 4, 5, 6, 7, 8, 9]\n",
            "[0, 2, 4, 6, 8]\n",
            "['.', 1, '.', 3, '.', 5, '.', 7, '.', 9]\n"
          ]
        }
      ]
    }
  ]
}